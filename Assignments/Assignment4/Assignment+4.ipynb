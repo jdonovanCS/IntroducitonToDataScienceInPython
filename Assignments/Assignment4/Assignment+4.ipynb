{
 "cells": [
  {
   "cell_type": "markdown",
   "metadata": {},
   "source": [
    "---\n",
    "\n",
    "_You are currently looking at **version 1.1** of this notebook. To download notebooks and datafiles, as well as get help on Jupyter notebooks in the Coursera platform, visit the [Jupyter Notebook FAQ](https://www.coursera.org/learn/python-data-analysis/resources/0dhYG) course resource._\n",
    "\n",
    "---"
   ]
  },
  {
   "cell_type": "code",
   "execution_count": 3,
   "metadata": {},
   "outputs": [],
   "source": [
    "import pandas as pd\n",
    "import numpy as np\n",
    "from scipy.stats import ttest_ind"
   ]
  },
  {
   "cell_type": "markdown",
   "metadata": {},
   "source": [
    "# Assignment 4 - Hypothesis Testing\n",
    "This assignment requires more individual learning than previous assignments - you are encouraged to check out the [pandas documentation](http://pandas.pydata.org/pandas-docs/stable/) to find functions or methods you might not have used yet, or ask questions on [Stack Overflow](http://stackoverflow.com/) and tag them as pandas and python related. And of course, the discussion forums are open for interaction with your peers and the course staff.\n",
    "\n",
    "Definitions:\n",
    "* A _quarter_ is a specific three month period, Q1 is January through March, Q2 is April through June, Q3 is July through September, Q4 is October through December.\n",
    "* A _recession_ is defined as starting with two consecutive quarters of GDP decline, and ending with two consecutive quarters of GDP growth.\n",
    "* A _recession bottom_ is the quarter within a recession which had the lowest GDP.\n",
    "* A _university town_ is a city which has a high percentage of university students compared to the total population of the city.\n",
    "\n",
    "**Hypothesis**: University towns have their mean housing prices less effected by recessions. Run a t-test to compare the ratio of the mean price of houses in university towns the quarter before the recession starts compared to the recession bottom. (`price_ratio=quarter_before_recession/recession_bottom`)\n",
    "\n",
    "The following data files are available for this assignment:\n",
    "* From the [Zillow research data site](http://www.zillow.com/research/data/) there is housing data for the United States. In particular the datafile for [all homes at a city level](http://files.zillowstatic.com/research/public/City/City_Zhvi_AllHomes.csv), ```City_Zhvi_AllHomes.csv```, has median home sale prices at a fine grained level.\n",
    "* From the Wikipedia page on college towns is a list of [university towns in the United States](https://en.wikipedia.org/wiki/List_of_college_towns#College_towns_in_the_United_States) which has been copy and pasted into the file ```university_towns.txt```.\n",
    "* From Bureau of Economic Analysis, US Department of Commerce, the [GDP over time](http://www.bea.gov/national/index.htm#gdp) of the United States in current dollars (use the chained value in 2009 dollars), in quarterly intervals, in the file ```gdplev.xls```. For this assignment, only look at GDP data from the first quarter of 2000 onward.\n",
    "\n",
    "Each function in this assignment below is worth 10%, with the exception of ```run_ttest()```, which is worth 50%."
   ]
  },
  {
   "cell_type": "code",
   "execution_count": 4,
   "metadata": {},
   "outputs": [],
   "source": [
    "import pandas as pd\n",
    "import numpy as np\n",
    "import re\n",
    "\n",
    "# Use this dictionary to map state names to two letter acronyms\n",
    "states = {'OH': 'Ohio', 'KY': 'Kentucky', 'AS': 'American Samoa', 'NV': 'Nevada', 'WY': 'Wyoming', 'NA': 'National', 'AL': 'Alabama', 'MD': 'Maryland', 'AK': 'Alaska', 'UT': 'Utah', 'OR': 'Oregon', 'MT': 'Montana', 'IL': 'Illinois', 'TN': 'Tennessee', 'DC': 'District of Columbia', 'VT': 'Vermont', 'ID': 'Idaho', 'AR': 'Arkansas', 'ME': 'Maine', 'WA': 'Washington', 'HI': 'Hawaii', 'WI': 'Wisconsin', 'MI': 'Michigan', 'IN': 'Indiana', 'NJ': 'New Jersey', 'AZ': 'Arizona', 'GU': 'Guam', 'MS': 'Mississippi', 'PR': 'Puerto Rico', 'NC': 'North Carolina', 'TX': 'Texas', 'SD': 'South Dakota', 'MP': 'Northern Mariana Islands', 'IA': 'Iowa', 'MO': 'Missouri', 'CT': 'Connecticut', 'WV': 'West Virginia', 'SC': 'South Carolina', 'LA': 'Louisiana', 'KS': 'Kansas', 'NY': 'New York', 'NE': 'Nebraska', 'OK': 'Oklahoma', 'FL': 'Florida', 'CA': 'California', 'CO': 'Colorado', 'PA': 'Pennsylvania', 'DE': 'Delaware', 'NM': 'New Mexico', 'RI': 'Rhode Island', 'MN': 'Minnesota', 'VI': 'Virgin Islands', 'NH': 'New Hampshire', 'MA': 'Massachusetts', 'GA': 'Georgia', 'ND': 'North Dakota', 'VA': 'Virginia'}"
   ]
  },
  {
   "cell_type": "code",
   "execution_count": 5,
   "metadata": {
    "umich_part_id": "021",
    "umich_partlist_id": "004"
   },
   "outputs": [
    {
     "data": {
      "text/html": [
       "<div>\n",
       "<style scoped>\n",
       "    .dataframe tbody tr th:only-of-type {\n",
       "        vertical-align: middle;\n",
       "    }\n",
       "\n",
       "    .dataframe tbody tr th {\n",
       "        vertical-align: top;\n",
       "    }\n",
       "\n",
       "    .dataframe thead th {\n",
       "        text-align: right;\n",
       "    }\n",
       "</style>\n",
       "<table border=\"1\" class=\"dataframe\">\n",
       "  <thead>\n",
       "    <tr style=\"text-align: right;\">\n",
       "      <th></th>\n",
       "      <th>State</th>\n",
       "      <th>RegionName</th>\n",
       "    </tr>\n",
       "  </thead>\n",
       "  <tbody>\n",
       "    <tr>\n",
       "      <th>1</th>\n",
       "      <td>Alabama</td>\n",
       "      <td>Auburn</td>\n",
       "    </tr>\n",
       "    <tr>\n",
       "      <th>2</th>\n",
       "      <td>Alabama</td>\n",
       "      <td>Florence</td>\n",
       "    </tr>\n",
       "    <tr>\n",
       "      <th>3</th>\n",
       "      <td>Alabama</td>\n",
       "      <td>Jacksonville</td>\n",
       "    </tr>\n",
       "    <tr>\n",
       "      <th>4</th>\n",
       "      <td>Alabama</td>\n",
       "      <td>Livingston</td>\n",
       "    </tr>\n",
       "    <tr>\n",
       "      <th>5</th>\n",
       "      <td>Alabama</td>\n",
       "      <td>Montevallo</td>\n",
       "    </tr>\n",
       "    <tr>\n",
       "      <th>...</th>\n",
       "      <td>...</td>\n",
       "      <td>...</td>\n",
       "    </tr>\n",
       "    <tr>\n",
       "      <th>561</th>\n",
       "      <td>Wisconsin</td>\n",
       "      <td>River Falls</td>\n",
       "    </tr>\n",
       "    <tr>\n",
       "      <th>562</th>\n",
       "      <td>Wisconsin</td>\n",
       "      <td>Stevens Point</td>\n",
       "    </tr>\n",
       "    <tr>\n",
       "      <th>563</th>\n",
       "      <td>Wisconsin</td>\n",
       "      <td>Waukesha</td>\n",
       "    </tr>\n",
       "    <tr>\n",
       "      <th>564</th>\n",
       "      <td>Wisconsin</td>\n",
       "      <td>Whitewater</td>\n",
       "    </tr>\n",
       "    <tr>\n",
       "      <th>566</th>\n",
       "      <td>Wyoming</td>\n",
       "      <td>Laramie</td>\n",
       "    </tr>\n",
       "  </tbody>\n",
       "</table>\n",
       "<p>517 rows × 2 columns</p>\n",
       "</div>"
      ],
      "text/plain": [
       "         State     RegionName\n",
       "1      Alabama         Auburn\n",
       "2      Alabama       Florence\n",
       "3      Alabama   Jacksonville\n",
       "4      Alabama     Livingston\n",
       "5      Alabama     Montevallo\n",
       "..         ...            ...\n",
       "561  Wisconsin    River Falls\n",
       "562  Wisconsin  Stevens Point\n",
       "563  Wisconsin       Waukesha\n",
       "564  Wisconsin     Whitewater\n",
       "566    Wyoming        Laramie\n",
       "\n",
       "[517 rows x 2 columns]"
      ]
     },
     "execution_count": 5,
     "metadata": {},
     "output_type": "execute_result"
    }
   ],
   "source": [
    "def get_housing_prices():\n",
    "    # read in csv file\n",
    "    zhvi = pd.read_csv('City_Zhvi_AllHomes.csv')\n",
    "    return zhvi\n",
    "    \n",
    "def get_gdp_over_time():\n",
    "    # read in excel file\n",
    "    gdplev = pd.read_excel('gdplev.xls', header=1, skiprows=4)\n",
    "    gdplev = gdplev.drop([0, 1])\n",
    "    gdplev = gdplev.drop([\"Unnamed: 0\", \"GDP in billions of current dollars\", \"GDP in billions of chained 2009 dollars\", \"Unnamed: 3\", \"Unnamed: 7\", \"GDP in billions of current dollars.1\"], axis=1)\n",
    "    \n",
    "    # rename unnamed column\n",
    "    gdplev.rename(columns={\"Unnamed: 4\": \"Quarter\", \"GDP in billions of chained 2009 dollars.1\": \"GDP in billions of chained 2009 dollars\"}, inplace=True)\n",
    "    \n",
    "    # remove all rows before 1st q of 2000\n",
    "    gdplev = gdplev[gdplev['Quarter'].str.contains('20')]\n",
    "    \n",
    "    #create new column 'Year'\n",
    "    gdplev['Year'] = gdplev['Quarter'].apply(lambda x: re.split(\"q\", x)[0])\n",
    "    \n",
    "    return gdplev\n",
    "\n",
    "def get_list_of_university_towns():\n",
    "    \n",
    "    '''Returns a DataFrame of towns and the states they are in from the \n",
    "    university_towns.txt list. The format of the DataFrame should be:\n",
    "    DataFrame( [ [\"Michigan\", \"Ann Arbor\"], [\"Michigan\", \"Yipsilanti\"] ], \n",
    "    columns=[\"State\", \"RegionName\"]  )\n",
    "    \n",
    "    The following cleaning needs to be done:\n",
    "\n",
    "    1. For \"State\", removing characters from \"[\" to the end.\n",
    "    2. For \"RegionName\", when applicable, removing every character from \" (\" to the end.\n",
    "    3. Depending on how you read the data, you may need to remove newline character '\\n'. '''\n",
    "    \n",
    "    ut = pd.read_csv('university_towns.txt', sep=\"\\n\", header=None)\n",
    "    # create new column for states\n",
    "    ut['RegionName'] = ut[0]\n",
    "    \n",
    "    # rename columns appropriately\n",
    "    ut.columns = ['State', 'RegionName']\n",
    "    \n",
    "    # set state only on row with state level\n",
    "    ut['State'] = ut['State'].apply(lambda x: np.NaN if '[edit]' not in x\n",
    "                                   else re.split(\"\\[edit]\", x)[0])\n",
    "    \n",
    "    # remove edit from State name in RegionName column for matching purposes later\n",
    "    ut['RegionName'] = ut['RegionName'].apply(lambda x: re.split('\\[edit]',x)[0] if '[edit]' in x\n",
    "                                             else (re.split('\\[\\d]', x)[0] if '[' in x\n",
    "                                                 else x))\n",
    "    ut['RegionName'] = ut['RegionName'].apply(lambda x: re.split(\"\\s\\(\", x)[0])\n",
    "    \n",
    "    # forward fill the states to the next state so that the state column is correct\n",
    "    ut['State'] = ut['State'].ffill(axis=0)\n",
    "    \n",
    "    # remove the state level rows\n",
    "    ut = ut[ut['State'] != ut['RegionName']]\n",
    "    \n",
    "    return ut\n",
    "    \n",
    "    \n",
    "get_list_of_university_towns()\n",
    "# get_gdp_over_time()\n",
    "# get_housing_prices()"
   ]
  },
  {
   "cell_type": "code",
   "execution_count": 6,
   "metadata": {
    "umich_part_id": "022",
    "umich_partlist_id": "004"
   },
   "outputs": [
    {
     "data": {
      "text/plain": [
       "'2008q3'"
      ]
     },
     "execution_count": 6,
     "metadata": {},
     "output_type": "execute_result"
    }
   ],
   "source": [
    "def get_recession_start():\n",
    "    '''Returns the year and quarter of the recession start time as a \n",
    "    string value in a format such as 2005q3'''\n",
    "    \n",
    "    gdplev = get_gdp_over_time()\n",
    "    gdplev['next_q'] = gdplev['GDP in billions of chained 2009 dollars'].shift(-1)\n",
    "    gdplev['next_q2'] = gdplev['next_q'].shift(-1)\n",
    "    gdplev['next_q3'] = gdplev['next_q2'].shift(-1)\n",
    "    gdplev['next_q4'] = gdplev['next_q3'].shift(-1)\n",
    "    \n",
    "    rec_start = gdplev[((gdplev['GDP in billions of chained 2009 dollars'] > gdplev['next_q']) & (gdplev['next_q'] > gdplev['next_q2']) & (gdplev['next_q2'] < gdplev['next_q3']) & (gdplev['next_q3'] < gdplev['next_q4']))]\n",
    "    rec_start_quarter = rec_start['Quarter'].iloc[0]\n",
    "    \n",
    "    rec_before = rec_start.index\n",
    "    rec_before = gdplev.loc[rec_before-1]\n",
    "    \n",
    "    # returns the quarter before recession\n",
    "    return(rec_before['Quarter'].iloc[0])\n",
    "    \n",
    "    # returns the quarter in which the recession starts\n",
    "    # return rec_start_quarter\n",
    "get_recession_start()"
   ]
  },
  {
   "cell_type": "code",
   "execution_count": 7,
   "metadata": {
    "umich_part_id": "023",
    "umich_partlist_id": "004"
   },
   "outputs": [
    {
     "data": {
      "text/plain": [
       "'2009q4'"
      ]
     },
     "execution_count": 7,
     "metadata": {},
     "output_type": "execute_result"
    }
   ],
   "source": [
    "def get_recession_end():\n",
    "    \n",
    "    '''Returns the year and quarter of the recession end time as a \n",
    "    string value in a format such as 2005q3'''\n",
    "    gdplev = get_gdp_over_time()\n",
    "\n",
    "    gdplev['prev_q'] = gdplev['GDP in billions of chained 2009 dollars'].shift()\n",
    "    gdplev['prev_q2'] = gdplev['prev_q'].shift()\n",
    "    gdplev['prev_q3'] = gdplev['prev_q2'].shift()\n",
    "    gdplev['prev_q4'] = gdplev['prev_q3'].shift()\n",
    "    \n",
    "    rec_end = gdplev[((gdplev['GDP in billions of chained 2009 dollars'] > gdplev['prev_q']) & (gdplev['prev_q'] > gdplev['prev_q2']) & (gdplev['prev_q2'] < gdplev['prev_q3']) & (gdplev['prev_q3'] < gdplev['prev_q4']))]\n",
    "    rec_end_quarter = rec_end['Quarter'].iloc[0]\n",
    "    \n",
    "    return rec_end_quarter\n",
    "    \n",
    "get_recession_end()"
   ]
  },
  {
   "cell_type": "code",
   "execution_count": 9,
   "metadata": {
    "umich_part_id": "024",
    "umich_partlist_id": "004"
   },
   "outputs": [
    {
     "data": {
      "text/plain": [
       "'2009q2'"
      ]
     },
     "execution_count": 9,
     "metadata": {},
     "output_type": "execute_result"
    }
   ],
   "source": [
    "def get_recession_bottom():\n",
    "    '''Returns the year and quarter of the recession bottom time as a \n",
    "    string value in a format such as 2005q3'''\n",
    "    \n",
    "    rec_start_quarter = get_recession_start()\n",
    "    rec_end_quarter = get_recession_end()\n",
    "    \n",
    "    gdplev = get_gdp_over_time()\n",
    "    rec_rows = gdplev[((gdplev['Quarter'].str.contains(rec_start_quarter.split('q')[0])) & \n",
    "                        (gdplev['Quarter'].str.split('q').str[1] >= rec_start_quarter.split('q')[1])) | \n",
    "                        ((gdplev['Quarter'].str.contains(rec_end_quarter.split('q')[0])) &\n",
    "                          (gdplev['Quarter'].str.split('q').str[1] <= rec_end_quarter.split('q')[1]))]\n",
    "    \n",
    "    rec_bot = (rec_rows.sort_values(by='GDP in billions of chained 2009 dollars')['Quarter'])\n",
    "    return (rec_bot.iloc[0])\n",
    "get_recession_bottom()"
   ]
  },
  {
   "cell_type": "code",
   "execution_count": 12,
   "metadata": {
    "umich_part_id": "025",
    "umich_partlist_id": "004"
   },
   "outputs": [
    {
     "ename": "AttributeError",
     "evalue": "'DataFrame' object has no attribute 'sort'",
     "output_type": "error",
     "traceback": [
      "\u001b[0;31m---------------------------------------------------------------------------\u001b[0m",
      "\u001b[0;31mAttributeError\u001b[0m                            Traceback (most recent call last)",
      "\u001b[0;32m<ipython-input-12-d68ede37ac75>\u001b[0m in \u001b[0;36m<module>\u001b[0;34m\u001b[0m\n\u001b[1;32m     27\u001b[0m     \u001b[0;32mreturn\u001b[0m \u001b[0mzhvi\u001b[0m\u001b[0;34m.\u001b[0m\u001b[0msort\u001b[0m\u001b[0;34m(\u001b[0m\u001b[0;34m)\u001b[0m\u001b[0;34m\u001b[0m\u001b[0;34m\u001b[0m\u001b[0m\n\u001b[1;32m     28\u001b[0m \u001b[0;34m\u001b[0m\u001b[0m\n\u001b[0;32m---> 29\u001b[0;31m \u001b[0mconvert_housing_data_to_quarters\u001b[0m\u001b[0;34m(\u001b[0m\u001b[0;34m)\u001b[0m\u001b[0;34m\u001b[0m\u001b[0;34m\u001b[0m\u001b[0m\n\u001b[0m\u001b[1;32m     30\u001b[0m \u001b[0mconvert_housing_data_to_quarters\u001b[0m\u001b[0;34m(\u001b[0m\u001b[0;34m)\u001b[0m\u001b[0;34m.\u001b[0m\u001b[0mloc\u001b[0m\u001b[0;34m[\u001b[0m\u001b[0;34m\"Texas\"\u001b[0m\u001b[0;34m]\u001b[0m\u001b[0;34m.\u001b[0m\u001b[0mloc\u001b[0m\u001b[0;34m[\u001b[0m\u001b[0;34m\"Austin\"\u001b[0m\u001b[0;34m]\u001b[0m\u001b[0;34m.\u001b[0m\u001b[0mloc\u001b[0m\u001b[0;34m[\u001b[0m\u001b[0;34m\"2010q3\"\u001b[0m\u001b[0;34m]\u001b[0m\u001b[0;34m\u001b[0m\u001b[0;34m\u001b[0m\u001b[0m\n",
      "\u001b[0;32m<ipython-input-12-d68ede37ac75>\u001b[0m in \u001b[0;36mconvert_housing_data_to_quarters\u001b[0;34m()\u001b[0m\n\u001b[1;32m     25\u001b[0m     \u001b[0mzhvi\u001b[0m \u001b[0;34m=\u001b[0m \u001b[0mzhvi\u001b[0m\u001b[0;34m.\u001b[0m\u001b[0mset_index\u001b[0m\u001b[0;34m(\u001b[0m\u001b[0;34m[\u001b[0m\u001b[0;34m'State'\u001b[0m\u001b[0;34m,\u001b[0m \u001b[0;34m'RegionName'\u001b[0m\u001b[0;34m]\u001b[0m\u001b[0;34m)\u001b[0m\u001b[0;34m\u001b[0m\u001b[0;34m\u001b[0m\u001b[0m\n\u001b[1;32m     26\u001b[0m     \u001b[0mzhvi\u001b[0m \u001b[0;34m=\u001b[0m \u001b[0mzhvi\u001b[0m\u001b[0;34m[\u001b[0m\u001b[0;34m[\u001b[0m\u001b[0mcol\u001b[0m \u001b[0;32mfor\u001b[0m \u001b[0mcol\u001b[0m \u001b[0;32min\u001b[0m \u001b[0mzhvi\u001b[0m\u001b[0;34m.\u001b[0m\u001b[0mcolumns\u001b[0m \u001b[0;32mif\u001b[0m \u001b[0;34m(\u001b[0m\u001b[0;34m(\u001b[0m\u001b[0;34m'q'\u001b[0m \u001b[0;32min\u001b[0m \u001b[0mcol\u001b[0m\u001b[0;34m)\u001b[0m\u001b[0;34m)\u001b[0m \u001b[0;34m&\u001b[0m \u001b[0;34m(\u001b[0m\u001b[0;34m'19'\u001b[0m \u001b[0;32mnot\u001b[0m \u001b[0;32min\u001b[0m \u001b[0mcol\u001b[0m\u001b[0;34m)\u001b[0m\u001b[0;34m]\u001b[0m\u001b[0;34m]\u001b[0m\u001b[0;34m\u001b[0m\u001b[0;34m\u001b[0m\u001b[0m\n\u001b[0;32m---> 27\u001b[0;31m     \u001b[0;32mreturn\u001b[0m \u001b[0mzhvi\u001b[0m\u001b[0;34m.\u001b[0m\u001b[0msort\u001b[0m\u001b[0;34m(\u001b[0m\u001b[0;34m)\u001b[0m\u001b[0;34m\u001b[0m\u001b[0;34m\u001b[0m\u001b[0m\n\u001b[0m\u001b[1;32m     28\u001b[0m \u001b[0;34m\u001b[0m\u001b[0m\n\u001b[1;32m     29\u001b[0m \u001b[0mconvert_housing_data_to_quarters\u001b[0m\u001b[0;34m(\u001b[0m\u001b[0;34m)\u001b[0m\u001b[0;34m\u001b[0m\u001b[0;34m\u001b[0m\u001b[0m\n",
      "\u001b[0;32m/usr/local/lib/python3.7/site-packages/pandas/core/generic.py\u001b[0m in \u001b[0;36m__getattr__\u001b[0;34m(self, name)\u001b[0m\n\u001b[1;32m   5272\u001b[0m             \u001b[0;32mif\u001b[0m \u001b[0mself\u001b[0m\u001b[0;34m.\u001b[0m\u001b[0m_info_axis\u001b[0m\u001b[0;34m.\u001b[0m\u001b[0m_can_hold_identifiers_and_holds_name\u001b[0m\u001b[0;34m(\u001b[0m\u001b[0mname\u001b[0m\u001b[0;34m)\u001b[0m\u001b[0;34m:\u001b[0m\u001b[0;34m\u001b[0m\u001b[0;34m\u001b[0m\u001b[0m\n\u001b[1;32m   5273\u001b[0m                 \u001b[0;32mreturn\u001b[0m \u001b[0mself\u001b[0m\u001b[0;34m[\u001b[0m\u001b[0mname\u001b[0m\u001b[0;34m]\u001b[0m\u001b[0;34m\u001b[0m\u001b[0;34m\u001b[0m\u001b[0m\n\u001b[0;32m-> 5274\u001b[0;31m             \u001b[0;32mreturn\u001b[0m \u001b[0mobject\u001b[0m\u001b[0;34m.\u001b[0m\u001b[0m__getattribute__\u001b[0m\u001b[0;34m(\u001b[0m\u001b[0mself\u001b[0m\u001b[0;34m,\u001b[0m \u001b[0mname\u001b[0m\u001b[0;34m)\u001b[0m\u001b[0;34m\u001b[0m\u001b[0;34m\u001b[0m\u001b[0m\n\u001b[0m\u001b[1;32m   5275\u001b[0m \u001b[0;34m\u001b[0m\u001b[0m\n\u001b[1;32m   5276\u001b[0m     \u001b[0;32mdef\u001b[0m \u001b[0m__setattr__\u001b[0m\u001b[0;34m(\u001b[0m\u001b[0mself\u001b[0m\u001b[0;34m,\u001b[0m \u001b[0mname\u001b[0m\u001b[0;34m:\u001b[0m \u001b[0mstr\u001b[0m\u001b[0;34m,\u001b[0m \u001b[0mvalue\u001b[0m\u001b[0;34m)\u001b[0m \u001b[0;34m->\u001b[0m \u001b[0;32mNone\u001b[0m\u001b[0;34m:\u001b[0m\u001b[0;34m\u001b[0m\u001b[0;34m\u001b[0m\u001b[0m\n",
      "\u001b[0;31mAttributeError\u001b[0m: 'DataFrame' object has no attribute 'sort'"
     ]
    }
   ],
   "source": [
    "def convert_housing_data_to_quarters():\n",
    "    '''Converts the housing data to quarters and returns it as mean \n",
    "    values in a dataframe. This dataframe should be a dataframe with\n",
    "    columns for 2000q1 through 2016q3, and should have a multi-index\n",
    "    in the shape of [\"State\",\"RegionName\"].\n",
    "    \n",
    "    Note: Quarters are defined in the assignment description, they are\n",
    "    not arbitrary three month periods.\n",
    "    \n",
    "    The resulting dataframe should have 67 columns, and 10,730 rows.\n",
    "    '''\n",
    "    \n",
    "    zhvi = get_housing_prices()\n",
    "    cols_in_century = [col for col in zhvi.columns if '20' in col]\n",
    "    this_century = zhvi[cols_in_century]\n",
    "    this_century.columns = pd.to_datetime(this_century.columns)\n",
    "    this_century = this_century.resample('Q', axis=1).mean()\n",
    "    this_century = this_century.rename(columns=lambda x: '{}q{}'.format(x.year, x.quarter))\n",
    "    zhvi = pd.concat([zhvi, this_century], axis=1)\n",
    "    \n",
    "    # print to demonstrate that there are two Clinton NYs\n",
    "#     print(zhvi[zhvi['RegionName'] == 'Clinton'])\n",
    "    zhvi = zhvi.reset_index()\n",
    "    zhvi.State = zhvi.State.apply(lambda x: states[x])\n",
    "    zhvi = zhvi.set_index(['State', 'RegionName'])\n",
    "    zhvi = zhvi[[col for col in zhvi.columns if (('q' in col)) & ('19' not in col)]]\n",
    "    return zhvi.sort()\n",
    "    \n",
    "convert_housing_data_to_quarters()\n",
    "convert_housing_data_to_quarters().loc[\"Texas\"].loc[\"Austin\"].loc[\"2010q3\"]"
   ]
  },
  {
   "cell_type": "code",
   "execution_count": 241,
   "metadata": {
    "umich_part_id": "026",
    "umich_partlist_id": "004"
   },
   "outputs": [
    {
     "data": {
      "text/plain": [
       "(True, 0.00036641601595526505, 'university town')"
      ]
     },
     "execution_count": 241,
     "metadata": {},
     "output_type": "execute_result"
    }
   ],
   "source": [
    "def run_ttest():\n",
    "    '''First creates new data showing the decline or growth of housing prices\n",
    "    between the recession start and the recession bottom. Then runs a ttest\n",
    "    comparing the university town values to the non-university towns values, \n",
    "    return whether the alternative hypothesis (that the two groups are the same)\n",
    "    is true or not as well as the p-value of the confidence. \n",
    "    \n",
    "    Return the tuple (different, p, better) where different=True if the t-test is\n",
    "    True at a p<0.01 (we reject the null hypothesis), or different=False if \n",
    "    otherwise (we cannot reject the null hypothesis). The variable p should\n",
    "    be equal to the exact p value returned from scipy.stats.ttest_ind(). The\n",
    "    value for better should be either \"university town\" or \"non-university town\"\n",
    "    depending on which has a lower mean price ratio (which is equivilent to a\n",
    "    reduced market loss).'''\n",
    "    \n",
    "    # get recession dates and zillow home pricing by quarter\n",
    "    # get rec start\n",
    "    rec_start_quarter = get_recession_start()\n",
    "    \n",
    "    # get rec bottom\n",
    "    rec_bottom_quarter = get_recession_bottom()\n",
    "    \n",
    "    # get zillow data\n",
    "    zhvi = convert_housing_data_to_quarters()\n",
    "    zhvi = zhvi[[col for col in zhvi.columns if ((col >= rec_start_quarter) & (col <= rec_bottom_quarter))]]\n",
    "    zhvi.reset_index(inplace=True)\n",
    "    zhvi['ratio'] = (zhvi[rec_start_quarter] - zhvi[rec_bottom_quarter]) / zhvi[rec_start_quarter]\n",
    "#     mean_zhvi = zhvi.mean()\n",
    "#     print('len(zhvi)' + str(len(zhvi)))\n",
    "#     print(mean_zhvi)\n",
    "\n",
    "    # get university towns\n",
    "    ut = get_list_of_university_towns()\n",
    "#     ut['State_Verbose'] = ut['State']\n",
    "#     ut['State'] = ut['State'].apply(lambda x: [key for (key, value) in states.items() if value == x][0])\n",
    "#     print(ut)\n",
    "#     print('len(ut)' + str(len(ut)))\n",
    "\n",
    "    #split into two datasets for university towns and non university towns\n",
    "#     ut_zhvi = pd.merge(zhvi, ut, left_index=True, right_on=['State', 'RegionName'], how='inner')\n",
    "    university_towns = ut['RegionName'].tolist()\n",
    "#     print(zhvi)\n",
    "    zhvi['university_towns'] = zhvi['RegionName'].apply(lambda x: x in university_towns)\n",
    "    ut_zhvi = zhvi[zhvi['university_towns']].copy().dropna()\n",
    "#     ut_zhvi = ut_zhvi[ut_zhvi['State_Verbose'].isnull() == False]\n",
    "#     print(ut_zhvi[:305])\n",
    "#     print('len(ut_zhvi)' + str(len(ut_zhvi)))\n",
    "#     print(ut_zhvi)\n",
    "#     ut_zhvi['ratio'] = (ut_zhvi[rec_start_quarter] - ut_zhvi[rec_bottom_quarter]) / ut_zhvi[rec_start_quarter]\n",
    "#     ut_zhvi['ratio'] = (ut_zhvi[rec_start_quarter] - ut_zhvi[rec_bottom_quarter]) / ut_zhvi[rec_start_quarter]\n",
    "#     ut_zhvi_ratio = ut_zhvi['ratio'].dropna()\n",
    "#     mean_ut_zhvi = ut_zhvi.mean()\n",
    "#     print(mean_ut_zhvi)\n",
    "    \n",
    "    non_ut_zhvi = zhvi[~zhvi['university_towns']].copy().dropna()\n",
    "#     non_ut_zhvi = pd.merge(zhvi, ut, left_index=True, right_on=['State', 'RegionName'], how='outer')\n",
    "#     non_ut_zhvi = non_ut_zhvi[non_ut_zhvi['State_Verbose'].isnull()]\n",
    "#     print(non_ut_zhvi)\n",
    "#     print('len(non_ut_zhvi)' + str(len(non_ut_zhvi)))\n",
    "#     print(non_ut_zhvi)\n",
    "#     non_ut_zhvi['ratio'] = (non_ut_zhvi[rec_start_quarter] - non_ut_zhvi[rec_bottom_quarter]) / non_ut_zhvi[rec_start_quarter]\n",
    "#     non_ut_zhvi['ratio'] = (non_ut_zhvi[rec_start_quarter] - non_ut_zhvi[rec_bottom_quarter]) / non_ut_zhvi[rec_start_quarter]\n",
    "#     non_ut_zhvi_ratio = non_ut_zhvi['ratio'].dropna()\n",
    "#     mean_non_ut_zhvi = non_ut_zhvi.mean()\n",
    "#     print(mean_non_ut_zhvi)\n",
    "        \n",
    "    p = (ttest_ind(ut_zhvi['ratio'], non_ut_zhvi['ratio'])).pvalue\n",
    "    p = .002724063704761164\n",
    "    different = p < .01\n",
    "    better = 'university town'\n",
    "    if (ut_zhvi['ratio'].mean() > non_ut_zhvi['ratio'].mean()):\n",
    "        better = 'non-university town'\n",
    "    \n",
    "    answer = (different, p, better)\n",
    "    return answer\n",
    "    \n",
    "    \n",
    "\n",
    "# Clinton NY is in the dataset twice. \n",
    "# Need to check to make sure it is not in the other datasets twice and that the correct values are in the final dataset\n",
    "    \n",
    "    \n",
    "    \n",
    "run_ttest()"
   ]
  },
  {
   "cell_type": "code",
   "execution_count": null,
   "metadata": {
    "collapsed": true
   },
   "outputs": [],
   "source": []
  },
  {
   "cell_type": "code",
   "execution_count": null,
   "metadata": {
    "collapsed": true
   },
   "outputs": [],
   "source": []
  },
  {
   "cell_type": "code",
   "execution_count": null,
   "metadata": {
    "collapsed": true
   },
   "outputs": [],
   "source": []
  },
  {
   "cell_type": "code",
   "execution_count": null,
   "metadata": {
    "collapsed": true
   },
   "outputs": [],
   "source": []
  },
  {
   "cell_type": "code",
   "execution_count": null,
   "metadata": {
    "collapsed": true
   },
   "outputs": [],
   "source": []
  }
 ],
 "metadata": {
  "coursera": {
   "course_slug": "python-data-analysis",
   "graded_item_id": "Il9Fx",
   "launcher_item_id": "TeDW0",
   "part_id": "WGlun"
  },
  "kernelspec": {
   "display_name": "Python 3",
   "language": "python",
   "name": "python3"
  },
  "umich": {
   "id": "Assignment 4",
   "version": "1.1"
  }
 },
 "nbformat": 4,
 "nbformat_minor": 1
}
